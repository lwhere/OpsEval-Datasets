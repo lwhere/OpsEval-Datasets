{
 "cells": [
  {
   "cell_type": "code",
   "execution_count": 8,
   "metadata": {},
   "outputs": [
    {
     "name": "stdout",
     "output_type": "stream",
     "text": [
      "343\n",
      "0 question_answer\n",
      "343 multi_choice\n"
     ]
    }
   ],
   "source": [
    "import json\n",
    "\n",
    "with open('5G Communication.json') as f:\n",
    "    data = json.load(f)\n",
    "question_answer = []\n",
    "multi_choice = []\n",
    "for item in data:\n",
    "    if 'solution' in item:\n",
    "        multi_choice.append(item)\n",
    "    else:\n",
    "        question_answer.append(item)\n",
    "print(len(data))\n",
    "print(f\"{len(question_answer)} question_answer\")\n",
    "print(f\"{len(multi_choice)} multi_choice\")"
   ]
  },
  {
   "cell_type": "code",
   "execution_count": 9,
   "metadata": {},
   "outputs": [
    {
     "name": "stdout",
     "output_type": "stream",
     "text": [
      "305\n",
      "161 question_answer\n",
      "144 multi_choice\n"
     ]
    }
   ],
   "source": [
    "with open('Log Analysis.json') as f:\n",
    "    data = json.load(f)\n",
    "question_answer = []\n",
    "multi_choice = []\n",
    "for item in data:\n",
    "    if 'solution' in item:\n",
    "        multi_choice.append(item)\n",
    "    else:\n",
    "        question_answer.append(item)\n",
    "print(len(data))\n",
    "print(f\"{len(question_answer)} question_answer\")\n",
    "print(f\"{len(multi_choice)} multi_choice\")"
   ]
  },
  {
   "cell_type": "code",
   "execution_count": 10,
   "metadata": {},
   "outputs": [
    {
     "name": "stdout",
     "output_type": "stream",
     "text": [
      "390\n",
      "0 question_answer\n",
      "390 multi_choice\n"
     ]
    }
   ],
   "source": [
    "with open('Oracle Database.json') as f:\n",
    "    data = json.load(f)\n",
    "\n",
    "question_answer = []\n",
    "multi_choice = []\n",
    "for item in data:\n",
    "    if 'solution' in item:\n",
    "        multi_choice.append(item)\n",
    "    else:\n",
    "        question_answer.append(item)\n",
    "print(len(data))\n",
    "print(f\"{len(question_answer)} question_answer\")\n",
    "print(f\"{len(multi_choice)} multi_choice\")"
   ]
  },
  {
   "cell_type": "code",
   "execution_count": 11,
   "metadata": {},
   "outputs": [
    {
     "name": "stdout",
     "output_type": "stream",
     "text": [
      "1558\n",
      "0 question_answer\n",
      "1558 multi_choice\n"
     ]
    }
   ],
   "source": [
    "with open('Wired Network.json') as f:\n",
    "    data = json.load(f)\n",
    "\n",
    "question_answer = []\n",
    "multi_choice = []\n",
    "for item in data:\n",
    "    if 'solution' in item:\n",
    "        multi_choice.append(item)\n",
    "    else:\n",
    "        question_answer.append(item)\n",
    "print(len(data))\n",
    "print(f\"{len(question_answer)} question_answer\")\n",
    "print(f\"{len(multi_choice)} multi_choice\")"
   ]
  },
  {
   "cell_type": "code",
   "execution_count": null,
   "metadata": {},
   "outputs": [],
   "source": []
  }
 ],
 "metadata": {
  "kernelspec": {
   "display_name": "alex",
   "language": "python",
   "name": "python3"
  },
  "language_info": {
   "codemirror_mode": {
    "name": "ipython",
    "version": 3
   },
   "file_extension": ".py",
   "mimetype": "text/x-python",
   "name": "python",
   "nbconvert_exporter": "python",
   "pygments_lexer": "ipython3",
   "version": "3.1.undefined"
  }
 },
 "nbformat": 4,
 "nbformat_minor": 2
}
